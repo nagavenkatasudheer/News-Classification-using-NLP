{
  "nbformat": 4,
  "nbformat_minor": 0,
  "metadata": {
    "colab": {
      "provenance": []
    },
    "kernelspec": {
      "name": "python3",
      "display_name": "Python 3"
    },
    "language_info": {
      "name": "python"
    }
  },
  "cells": [
    {
      "cell_type": "code",
      "execution_count": 1,
      "metadata": {
        "id": "XjaBm5cDpsuc"
      },
      "outputs": [],
      "source": [
        "import numpy as np\n",
        "import pandas as pd\n",
        "import nltk\n",
        "import seaborn as sns"
      ]
    },
    {
      "cell_type": "code",
      "source": [
        "dataset=pd.read_csv('the_data.csv')\n",
        "dataset.head()"
      ],
      "metadata": {
        "colab": {
          "base_uri": "https://localhost:8080/",
          "height": 424
        },
        "id": "hIp5PFwFp6HN",
        "outputId": "ceade4f0-cf68-4245-f74b-618f96ccac0b"
      },
      "execution_count": 2,
      "outputs": [
        {
          "output_type": "execute_result",
          "data": {
            "text/plain": [
              "   Sno        Date                                           Headline  Covid  \\\n",
              "0    0  2020-04-29  Coronavirus cases reach 2,438 in Rajasthan; 81...      1   \n",
              "1    1  2020-04-29  Coronavirus cases in Delhi surge to 3,439 afte...      1   \n",
              "2    2  2020-04-30  Anguished, I'll always recall our interactions...      0   \n",
              "3    3  2020-04-30  It's a terrible week for Indian cinema: Rahul ...      0   \n",
              "4    4  2020-04-30  Delhi Police perform 'parikrama' of AIIMS to t...      1   \n",
              "\n",
              "   Sentiment                                        Description  \\\n",
              "0          0  Rajasthan on Wednesday reported 74 new coronav...   \n",
              "1          0  The total number of coronavirus cases in Delhi...   \n",
              "2          1  Condoling the demise of actor Rishi Kapoor, PM...   \n",
              "3          0  Congress leader Rahul Gandhi condoled Rishi Ka...   \n",
              "4          1  As a sign of respect for healthcare profession...   \n",
              "\n",
              "                                               Image  \\\n",
              "0  https://static.inshorts.com/inshorts/images/v1...   \n",
              "1  https://static.inshorts.com/inshorts/images/v1...   \n",
              "2  https://static.inshorts.com/inshorts/images/v1...   \n",
              "3  https://static.inshorts.com/inshorts/images/v1...   \n",
              "4  https://static.inshorts.com/inshorts/images/v1...   \n",
              "\n",
              "                                              Source  \n",
              "0  http://www.rajswasthya.nic.in/?utm_campaign=fu...  \n",
              "1  https://twitter.com/shemin_joy/status/12555489...  \n",
              "2  https://twitter.com/narendramodi/status/125573...  \n",
              "3  https://zeenews.india.com/india/politicians-mo...  \n",
              "4  https://zeenews.india.com/india/delhi-police-p...  "
            ],
            "text/html": [
              "\n",
              "  <div id=\"df-2b52f404-06fd-4d79-8739-012688def373\">\n",
              "    <div class=\"colab-df-container\">\n",
              "      <div>\n",
              "<style scoped>\n",
              "    .dataframe tbody tr th:only-of-type {\n",
              "        vertical-align: middle;\n",
              "    }\n",
              "\n",
              "    .dataframe tbody tr th {\n",
              "        vertical-align: top;\n",
              "    }\n",
              "\n",
              "    .dataframe thead th {\n",
              "        text-align: right;\n",
              "    }\n",
              "</style>\n",
              "<table border=\"1\" class=\"dataframe\">\n",
              "  <thead>\n",
              "    <tr style=\"text-align: right;\">\n",
              "      <th></th>\n",
              "      <th>Sno</th>\n",
              "      <th>Date</th>\n",
              "      <th>Headline</th>\n",
              "      <th>Covid</th>\n",
              "      <th>Sentiment</th>\n",
              "      <th>Description</th>\n",
              "      <th>Image</th>\n",
              "      <th>Source</th>\n",
              "    </tr>\n",
              "  </thead>\n",
              "  <tbody>\n",
              "    <tr>\n",
              "      <th>0</th>\n",
              "      <td>0</td>\n",
              "      <td>2020-04-29</td>\n",
              "      <td>Coronavirus cases reach 2,438 in Rajasthan; 81...</td>\n",
              "      <td>1</td>\n",
              "      <td>0</td>\n",
              "      <td>Rajasthan on Wednesday reported 74 new coronav...</td>\n",
              "      <td>https://static.inshorts.com/inshorts/images/v1...</td>\n",
              "      <td>http://www.rajswasthya.nic.in/?utm_campaign=fu...</td>\n",
              "    </tr>\n",
              "    <tr>\n",
              "      <th>1</th>\n",
              "      <td>1</td>\n",
              "      <td>2020-04-29</td>\n",
              "      <td>Coronavirus cases in Delhi surge to 3,439 afte...</td>\n",
              "      <td>1</td>\n",
              "      <td>0</td>\n",
              "      <td>The total number of coronavirus cases in Delhi...</td>\n",
              "      <td>https://static.inshorts.com/inshorts/images/v1...</td>\n",
              "      <td>https://twitter.com/shemin_joy/status/12555489...</td>\n",
              "    </tr>\n",
              "    <tr>\n",
              "      <th>2</th>\n",
              "      <td>2</td>\n",
              "      <td>2020-04-30</td>\n",
              "      <td>Anguished, I'll always recall our interactions...</td>\n",
              "      <td>0</td>\n",
              "      <td>1</td>\n",
              "      <td>Condoling the demise of actor Rishi Kapoor, PM...</td>\n",
              "      <td>https://static.inshorts.com/inshorts/images/v1...</td>\n",
              "      <td>https://twitter.com/narendramodi/status/125573...</td>\n",
              "    </tr>\n",
              "    <tr>\n",
              "      <th>3</th>\n",
              "      <td>3</td>\n",
              "      <td>2020-04-30</td>\n",
              "      <td>It's a terrible week for Indian cinema: Rahul ...</td>\n",
              "      <td>0</td>\n",
              "      <td>0</td>\n",
              "      <td>Congress leader Rahul Gandhi condoled Rishi Ka...</td>\n",
              "      <td>https://static.inshorts.com/inshorts/images/v1...</td>\n",
              "      <td>https://zeenews.india.com/india/politicians-mo...</td>\n",
              "    </tr>\n",
              "    <tr>\n",
              "      <th>4</th>\n",
              "      <td>4</td>\n",
              "      <td>2020-04-30</td>\n",
              "      <td>Delhi Police perform 'parikrama' of AIIMS to t...</td>\n",
              "      <td>1</td>\n",
              "      <td>1</td>\n",
              "      <td>As a sign of respect for healthcare profession...</td>\n",
              "      <td>https://static.inshorts.com/inshorts/images/v1...</td>\n",
              "      <td>https://zeenews.india.com/india/delhi-police-p...</td>\n",
              "    </tr>\n",
              "  </tbody>\n",
              "</table>\n",
              "</div>\n",
              "      <button class=\"colab-df-convert\" onclick=\"convertToInteractive('df-2b52f404-06fd-4d79-8739-012688def373')\"\n",
              "              title=\"Convert this dataframe to an interactive table.\"\n",
              "              style=\"display:none;\">\n",
              "        \n",
              "  <svg xmlns=\"http://www.w3.org/2000/svg\" height=\"24px\"viewBox=\"0 0 24 24\"\n",
              "       width=\"24px\">\n",
              "    <path d=\"M0 0h24v24H0V0z\" fill=\"none\"/>\n",
              "    <path d=\"M18.56 5.44l.94 2.06.94-2.06 2.06-.94-2.06-.94-.94-2.06-.94 2.06-2.06.94zm-11 1L8.5 8.5l.94-2.06 2.06-.94-2.06-.94L8.5 2.5l-.94 2.06-2.06.94zm10 10l.94 2.06.94-2.06 2.06-.94-2.06-.94-.94-2.06-.94 2.06-2.06.94z\"/><path d=\"M17.41 7.96l-1.37-1.37c-.4-.4-.92-.59-1.43-.59-.52 0-1.04.2-1.43.59L10.3 9.45l-7.72 7.72c-.78.78-.78 2.05 0 2.83L4 21.41c.39.39.9.59 1.41.59.51 0 1.02-.2 1.41-.59l7.78-7.78 2.81-2.81c.8-.78.8-2.07 0-2.86zM5.41 20L4 18.59l7.72-7.72 1.47 1.35L5.41 20z\"/>\n",
              "  </svg>\n",
              "      </button>\n",
              "      \n",
              "  <style>\n",
              "    .colab-df-container {\n",
              "      display:flex;\n",
              "      flex-wrap:wrap;\n",
              "      gap: 12px;\n",
              "    }\n",
              "\n",
              "    .colab-df-convert {\n",
              "      background-color: #E8F0FE;\n",
              "      border: none;\n",
              "      border-radius: 50%;\n",
              "      cursor: pointer;\n",
              "      display: none;\n",
              "      fill: #1967D2;\n",
              "      height: 32px;\n",
              "      padding: 0 0 0 0;\n",
              "      width: 32px;\n",
              "    }\n",
              "\n",
              "    .colab-df-convert:hover {\n",
              "      background-color: #E2EBFA;\n",
              "      box-shadow: 0px 1px 2px rgba(60, 64, 67, 0.3), 0px 1px 3px 1px rgba(60, 64, 67, 0.15);\n",
              "      fill: #174EA6;\n",
              "    }\n",
              "\n",
              "    [theme=dark] .colab-df-convert {\n",
              "      background-color: #3B4455;\n",
              "      fill: #D2E3FC;\n",
              "    }\n",
              "\n",
              "    [theme=dark] .colab-df-convert:hover {\n",
              "      background-color: #434B5C;\n",
              "      box-shadow: 0px 1px 3px 1px rgba(0, 0, 0, 0.15);\n",
              "      filter: drop-shadow(0px 1px 2px rgba(0, 0, 0, 0.3));\n",
              "      fill: #FFFFFF;\n",
              "    }\n",
              "  </style>\n",
              "\n",
              "      <script>\n",
              "        const buttonEl =\n",
              "          document.querySelector('#df-2b52f404-06fd-4d79-8739-012688def373 button.colab-df-convert');\n",
              "        buttonEl.style.display =\n",
              "          google.colab.kernel.accessAllowed ? 'block' : 'none';\n",
              "\n",
              "        async function convertToInteractive(key) {\n",
              "          const element = document.querySelector('#df-2b52f404-06fd-4d79-8739-012688def373');\n",
              "          const dataTable =\n",
              "            await google.colab.kernel.invokeFunction('convertToInteractive',\n",
              "                                                     [key], {});\n",
              "          if (!dataTable) return;\n",
              "\n",
              "          const docLinkHtml = 'Like what you see? Visit the ' +\n",
              "            '<a target=\"_blank\" href=https://colab.research.google.com/notebooks/data_table.ipynb>data table notebook</a>'\n",
              "            + ' to learn more about interactive tables.';\n",
              "          element.innerHTML = '';\n",
              "          dataTable['output_type'] = 'display_data';\n",
              "          await google.colab.output.renderOutput(dataTable, element);\n",
              "          const docLink = document.createElement('div');\n",
              "          docLink.innerHTML = docLinkHtml;\n",
              "          element.appendChild(docLink);\n",
              "        }\n",
              "      </script>\n",
              "    </div>\n",
              "  </div>\n",
              "  "
            ]
          },
          "metadata": {},
          "execution_count": 2
        }
      ]
    },
    {
      "cell_type": "code",
      "source": [
        "nltk.download('punkt')\n"
      ],
      "metadata": {
        "colab": {
          "base_uri": "https://localhost:8080/"
        },
        "id": "dc2cPSbFqLRs",
        "outputId": "a4296c99-2f32-42aa-8736-b718107d2530"
      },
      "execution_count": 3,
      "outputs": [
        {
          "output_type": "stream",
          "name": "stderr",
          "text": [
            "[nltk_data] Downloading package punkt to /root/nltk_data...\n",
            "[nltk_data]   Unzipping tokenizers/punkt.zip.\n"
          ]
        },
        {
          "output_type": "execute_result",
          "data": {
            "text/plain": [
              "True"
            ]
          },
          "metadata": {},
          "execution_count": 3
        }
      ]
    },
    {
      "cell_type": "code",
      "source": [
        "dataset=dataset.reset_index(drop=True)\n",
        "dataset"
      ],
      "metadata": {
        "colab": {
          "base_uri": "https://localhost:8080/",
          "height": 988
        },
        "id": "hIVFHgdorAcg",
        "outputId": "0aaa11f9-8e39-4748-a714-5d92f5a98b2e"
      },
      "execution_count": 4,
      "outputs": [
        {
          "output_type": "execute_result",
          "data": {
            "text/plain": [
              "       Sno        Date                                           Headline  \\\n",
              "0        0  2020-04-29  Coronavirus cases reach 2,438 in Rajasthan; 81...   \n",
              "1        1  2020-04-29  Coronavirus cases in Delhi surge to 3,439 afte...   \n",
              "2        2  2020-04-30  Anguished, I'll always recall our interactions...   \n",
              "3        3  2020-04-30  It's a terrible week for Indian cinema: Rahul ...   \n",
              "4        4  2020-04-30  Delhi Police perform 'parikrama' of AIIMS to t...   \n",
              "...    ...         ...                                                ...   \n",
              "1441  1441  2020-04-09  News of Tablighi Jamaat members defecating in ...   \n",
              "1442  1442  2020-04-09  Karnataka to finalise lockdown exit strategy b...   \n",
              "1443  1443  2020-04-09  CRPF sends essentials to different districts o...   \n",
              "1444  1444  2020-04-09  Jharkhand records 1st Covid-19 death as 72-yr-...   \n",
              "1445  1445  2020-04-09  T'gana issues guidelines for disposal of bodie...   \n",
              "\n",
              "      Covid  Sentiment                                        Description  \\\n",
              "0         1          0  Rajasthan on Wednesday reported 74 new coronav...   \n",
              "1         1          0  The total number of coronavirus cases in Delhi...   \n",
              "2         0          1  Condoling the demise of actor Rishi Kapoor, PM...   \n",
              "3         0          0  Congress leader Rahul Gandhi condoled Rishi Ka...   \n",
              "4         1          1  As a sign of respect for healthcare profession...   \n",
              "...     ...        ...                                                ...   \n",
              "1441      1          0  Saharanpur Police has denied news reports that...   \n",
              "1442      1          1  The Karnataka government is engaged in discuss...   \n",
              "1443      1          1  The CRPF on Thursday sent essential commoditie...   \n",
              "1444      1          0  Jharkhand reported its first death due to coro...   \n",
              "1445      1          0  Telangana government has issued guidelines for...   \n",
              "\n",
              "                                                  Image  \\\n",
              "0     https://static.inshorts.com/inshorts/images/v1...   \n",
              "1     https://static.inshorts.com/inshorts/images/v1...   \n",
              "2     https://static.inshorts.com/inshorts/images/v1...   \n",
              "3     https://static.inshorts.com/inshorts/images/v1...   \n",
              "4     https://static.inshorts.com/inshorts/images/v1...   \n",
              "...                                                 ...   \n",
              "1441  https://static.inshorts.com/inshorts/images/v1...   \n",
              "1442  https://static.inshorts.com/inshorts/images/v1...   \n",
              "1443  https://static.inshorts.com/inshorts/images/v1...   \n",
              "1444  https://static.inshorts.com/inshorts/images/v1...   \n",
              "1445  https://static.inshorts.com/inshorts/images/v1...   \n",
              "\n",
              "                                                 Source  \n",
              "0     http://www.rajswasthya.nic.in/?utm_campaign=fu...  \n",
              "1     https://twitter.com/shemin_joy/status/12555489...  \n",
              "2     https://twitter.com/narendramodi/status/125573...  \n",
              "3     https://zeenews.india.com/india/politicians-mo...  \n",
              "4     https://zeenews.india.com/india/delhi-police-p...  \n",
              "...                                                 ...  \n",
              "1441  https://thewire.in/media/media-misreports-tabl...  \n",
              "1442  https://www.financialexpress.com/india-news/ka...  \n",
              "1443  https://twitter.com/ANI/status/124816409174472...  \n",
              "1444  https://zeenews.india.com/jharkhand/jharkhand-...  \n",
              "1445                                           https://  \n",
              "\n",
              "[1446 rows x 8 columns]"
            ],
            "text/html": [
              "\n",
              "  <div id=\"df-dc05808e-8f5b-479e-81b1-2480d1e4c84f\">\n",
              "    <div class=\"colab-df-container\">\n",
              "      <div>\n",
              "<style scoped>\n",
              "    .dataframe tbody tr th:only-of-type {\n",
              "        vertical-align: middle;\n",
              "    }\n",
              "\n",
              "    .dataframe tbody tr th {\n",
              "        vertical-align: top;\n",
              "    }\n",
              "\n",
              "    .dataframe thead th {\n",
              "        text-align: right;\n",
              "    }\n",
              "</style>\n",
              "<table border=\"1\" class=\"dataframe\">\n",
              "  <thead>\n",
              "    <tr style=\"text-align: right;\">\n",
              "      <th></th>\n",
              "      <th>Sno</th>\n",
              "      <th>Date</th>\n",
              "      <th>Headline</th>\n",
              "      <th>Covid</th>\n",
              "      <th>Sentiment</th>\n",
              "      <th>Description</th>\n",
              "      <th>Image</th>\n",
              "      <th>Source</th>\n",
              "    </tr>\n",
              "  </thead>\n",
              "  <tbody>\n",
              "    <tr>\n",
              "      <th>0</th>\n",
              "      <td>0</td>\n",
              "      <td>2020-04-29</td>\n",
              "      <td>Coronavirus cases reach 2,438 in Rajasthan; 81...</td>\n",
              "      <td>1</td>\n",
              "      <td>0</td>\n",
              "      <td>Rajasthan on Wednesday reported 74 new coronav...</td>\n",
              "      <td>https://static.inshorts.com/inshorts/images/v1...</td>\n",
              "      <td>http://www.rajswasthya.nic.in/?utm_campaign=fu...</td>\n",
              "    </tr>\n",
              "    <tr>\n",
              "      <th>1</th>\n",
              "      <td>1</td>\n",
              "      <td>2020-04-29</td>\n",
              "      <td>Coronavirus cases in Delhi surge to 3,439 afte...</td>\n",
              "      <td>1</td>\n",
              "      <td>0</td>\n",
              "      <td>The total number of coronavirus cases in Delhi...</td>\n",
              "      <td>https://static.inshorts.com/inshorts/images/v1...</td>\n",
              "      <td>https://twitter.com/shemin_joy/status/12555489...</td>\n",
              "    </tr>\n",
              "    <tr>\n",
              "      <th>2</th>\n",
              "      <td>2</td>\n",
              "      <td>2020-04-30</td>\n",
              "      <td>Anguished, I'll always recall our interactions...</td>\n",
              "      <td>0</td>\n",
              "      <td>1</td>\n",
              "      <td>Condoling the demise of actor Rishi Kapoor, PM...</td>\n",
              "      <td>https://static.inshorts.com/inshorts/images/v1...</td>\n",
              "      <td>https://twitter.com/narendramodi/status/125573...</td>\n",
              "    </tr>\n",
              "    <tr>\n",
              "      <th>3</th>\n",
              "      <td>3</td>\n",
              "      <td>2020-04-30</td>\n",
              "      <td>It's a terrible week for Indian cinema: Rahul ...</td>\n",
              "      <td>0</td>\n",
              "      <td>0</td>\n",
              "      <td>Congress leader Rahul Gandhi condoled Rishi Ka...</td>\n",
              "      <td>https://static.inshorts.com/inshorts/images/v1...</td>\n",
              "      <td>https://zeenews.india.com/india/politicians-mo...</td>\n",
              "    </tr>\n",
              "    <tr>\n",
              "      <th>4</th>\n",
              "      <td>4</td>\n",
              "      <td>2020-04-30</td>\n",
              "      <td>Delhi Police perform 'parikrama' of AIIMS to t...</td>\n",
              "      <td>1</td>\n",
              "      <td>1</td>\n",
              "      <td>As a sign of respect for healthcare profession...</td>\n",
              "      <td>https://static.inshorts.com/inshorts/images/v1...</td>\n",
              "      <td>https://zeenews.india.com/india/delhi-police-p...</td>\n",
              "    </tr>\n",
              "    <tr>\n",
              "      <th>...</th>\n",
              "      <td>...</td>\n",
              "      <td>...</td>\n",
              "      <td>...</td>\n",
              "      <td>...</td>\n",
              "      <td>...</td>\n",
              "      <td>...</td>\n",
              "      <td>...</td>\n",
              "      <td>...</td>\n",
              "    </tr>\n",
              "    <tr>\n",
              "      <th>1441</th>\n",
              "      <td>1441</td>\n",
              "      <td>2020-04-09</td>\n",
              "      <td>News of Tablighi Jamaat members defecating in ...</td>\n",
              "      <td>1</td>\n",
              "      <td>0</td>\n",
              "      <td>Saharanpur Police has denied news reports that...</td>\n",
              "      <td>https://static.inshorts.com/inshorts/images/v1...</td>\n",
              "      <td>https://thewire.in/media/media-misreports-tabl...</td>\n",
              "    </tr>\n",
              "    <tr>\n",
              "      <th>1442</th>\n",
              "      <td>1442</td>\n",
              "      <td>2020-04-09</td>\n",
              "      <td>Karnataka to finalise lockdown exit strategy b...</td>\n",
              "      <td>1</td>\n",
              "      <td>1</td>\n",
              "      <td>The Karnataka government is engaged in discuss...</td>\n",
              "      <td>https://static.inshorts.com/inshorts/images/v1...</td>\n",
              "      <td>https://www.financialexpress.com/india-news/ka...</td>\n",
              "    </tr>\n",
              "    <tr>\n",
              "      <th>1443</th>\n",
              "      <td>1443</td>\n",
              "      <td>2020-04-09</td>\n",
              "      <td>CRPF sends essentials to different districts o...</td>\n",
              "      <td>1</td>\n",
              "      <td>1</td>\n",
              "      <td>The CRPF on Thursday sent essential commoditie...</td>\n",
              "      <td>https://static.inshorts.com/inshorts/images/v1...</td>\n",
              "      <td>https://twitter.com/ANI/status/124816409174472...</td>\n",
              "    </tr>\n",
              "    <tr>\n",
              "      <th>1444</th>\n",
              "      <td>1444</td>\n",
              "      <td>2020-04-09</td>\n",
              "      <td>Jharkhand records 1st Covid-19 death as 72-yr-...</td>\n",
              "      <td>1</td>\n",
              "      <td>0</td>\n",
              "      <td>Jharkhand reported its first death due to coro...</td>\n",
              "      <td>https://static.inshorts.com/inshorts/images/v1...</td>\n",
              "      <td>https://zeenews.india.com/jharkhand/jharkhand-...</td>\n",
              "    </tr>\n",
              "    <tr>\n",
              "      <th>1445</th>\n",
              "      <td>1445</td>\n",
              "      <td>2020-04-09</td>\n",
              "      <td>T'gana issues guidelines for disposal of bodie...</td>\n",
              "      <td>1</td>\n",
              "      <td>0</td>\n",
              "      <td>Telangana government has issued guidelines for...</td>\n",
              "      <td>https://static.inshorts.com/inshorts/images/v1...</td>\n",
              "      <td>https://</td>\n",
              "    </tr>\n",
              "  </tbody>\n",
              "</table>\n",
              "<p>1446 rows × 8 columns</p>\n",
              "</div>\n",
              "      <button class=\"colab-df-convert\" onclick=\"convertToInteractive('df-dc05808e-8f5b-479e-81b1-2480d1e4c84f')\"\n",
              "              title=\"Convert this dataframe to an interactive table.\"\n",
              "              style=\"display:none;\">\n",
              "        \n",
              "  <svg xmlns=\"http://www.w3.org/2000/svg\" height=\"24px\"viewBox=\"0 0 24 24\"\n",
              "       width=\"24px\">\n",
              "    <path d=\"M0 0h24v24H0V0z\" fill=\"none\"/>\n",
              "    <path d=\"M18.56 5.44l.94 2.06.94-2.06 2.06-.94-2.06-.94-.94-2.06-.94 2.06-2.06.94zm-11 1L8.5 8.5l.94-2.06 2.06-.94-2.06-.94L8.5 2.5l-.94 2.06-2.06.94zm10 10l.94 2.06.94-2.06 2.06-.94-2.06-.94-.94-2.06-.94 2.06-2.06.94z\"/><path d=\"M17.41 7.96l-1.37-1.37c-.4-.4-.92-.59-1.43-.59-.52 0-1.04.2-1.43.59L10.3 9.45l-7.72 7.72c-.78.78-.78 2.05 0 2.83L4 21.41c.39.39.9.59 1.41.59.51 0 1.02-.2 1.41-.59l7.78-7.78 2.81-2.81c.8-.78.8-2.07 0-2.86zM5.41 20L4 18.59l7.72-7.72 1.47 1.35L5.41 20z\"/>\n",
              "  </svg>\n",
              "      </button>\n",
              "      \n",
              "  <style>\n",
              "    .colab-df-container {\n",
              "      display:flex;\n",
              "      flex-wrap:wrap;\n",
              "      gap: 12px;\n",
              "    }\n",
              "\n",
              "    .colab-df-convert {\n",
              "      background-color: #E8F0FE;\n",
              "      border: none;\n",
              "      border-radius: 50%;\n",
              "      cursor: pointer;\n",
              "      display: none;\n",
              "      fill: #1967D2;\n",
              "      height: 32px;\n",
              "      padding: 0 0 0 0;\n",
              "      width: 32px;\n",
              "    }\n",
              "\n",
              "    .colab-df-convert:hover {\n",
              "      background-color: #E2EBFA;\n",
              "      box-shadow: 0px 1px 2px rgba(60, 64, 67, 0.3), 0px 1px 3px 1px rgba(60, 64, 67, 0.15);\n",
              "      fill: #174EA6;\n",
              "    }\n",
              "\n",
              "    [theme=dark] .colab-df-convert {\n",
              "      background-color: #3B4455;\n",
              "      fill: #D2E3FC;\n",
              "    }\n",
              "\n",
              "    [theme=dark] .colab-df-convert:hover {\n",
              "      background-color: #434B5C;\n",
              "      box-shadow: 0px 1px 3px 1px rgba(0, 0, 0, 0.15);\n",
              "      filter: drop-shadow(0px 1px 2px rgba(0, 0, 0, 0.3));\n",
              "      fill: #FFFFFF;\n",
              "    }\n",
              "  </style>\n",
              "\n",
              "      <script>\n",
              "        const buttonEl =\n",
              "          document.querySelector('#df-dc05808e-8f5b-479e-81b1-2480d1e4c84f button.colab-df-convert');\n",
              "        buttonEl.style.display =\n",
              "          google.colab.kernel.accessAllowed ? 'block' : 'none';\n",
              "\n",
              "        async function convertToInteractive(key) {\n",
              "          const element = document.querySelector('#df-dc05808e-8f5b-479e-81b1-2480d1e4c84f');\n",
              "          const dataTable =\n",
              "            await google.colab.kernel.invokeFunction('convertToInteractive',\n",
              "                                                     [key], {});\n",
              "          if (!dataTable) return;\n",
              "\n",
              "          const docLinkHtml = 'Like what you see? Visit the ' +\n",
              "            '<a target=\"_blank\" href=https://colab.research.google.com/notebooks/data_table.ipynb>data table notebook</a>'\n",
              "            + ' to learn more about interactive tables.';\n",
              "          element.innerHTML = '';\n",
              "          dataTable['output_type'] = 'display_data';\n",
              "          await google.colab.output.renderOutput(dataTable, element);\n",
              "          const docLink = document.createElement('div');\n",
              "          docLink.innerHTML = docLinkHtml;\n",
              "          element.appendChild(docLink);\n",
              "        }\n",
              "      </script>\n",
              "    </div>\n",
              "  </div>\n",
              "  "
            ]
          },
          "metadata": {},
          "execution_count": 4
        }
      ]
    },
    {
      "cell_type": "code",
      "source": [
        "from nltk.tokenize import word_tokenize\n",
        "dataset['Headline']=dataset['Headline'].apply(word_tokenize)\n",
        "dataset\n",
        "dataset.shape"
      ],
      "metadata": {
        "colab": {
          "base_uri": "https://localhost:8080/"
        },
        "id": "viSFd45grCkE",
        "outputId": "dd41776f-733c-4f17-b23e-9bd2958f6f0a"
      },
      "execution_count": 5,
      "outputs": [
        {
          "output_type": "execute_result",
          "data": {
            "text/plain": [
              "(1446, 8)"
            ]
          },
          "metadata": {},
          "execution_count": 5
        }
      ]
    },
    {
      "cell_type": "code",
      "source": [
        "dataset.isnull().sum()"
      ],
      "metadata": {
        "colab": {
          "base_uri": "https://localhost:8080/"
        },
        "id": "Wg1xulX3rP6k",
        "outputId": "db3030ad-e5d4-443d-dc12-2220e871355a"
      },
      "execution_count": 6,
      "outputs": [
        {
          "output_type": "execute_result",
          "data": {
            "text/plain": [
              "Sno            0\n",
              "Date           0\n",
              "Headline       0\n",
              "Covid          0\n",
              "Sentiment      0\n",
              "Description    0\n",
              "Image          0\n",
              "Source         0\n",
              "dtype: int64"
            ]
          },
          "metadata": {},
          "execution_count": 6
        }
      ]
    },
    {
      "cell_type": "code",
      "source": [
        "dataset['Description'][0]"
      ],
      "metadata": {
        "colab": {
          "base_uri": "https://localhost:8080/",
          "height": 70
        },
        "id": "Kw7LbZyyrV5a",
        "outputId": "7f96cdc1-d62f-4363-e238-4dd0a2d762df"
      },
      "execution_count": 7,
      "outputs": [
        {
          "output_type": "execute_result",
          "data": {
            "text/plain": [
              "'Rajasthan on Wednesday reported 74 new coronavirus cases, taking the total number of cases in the state to 2,438. All three deaths reported in the state today were from Jaipur, taking the death toll to 55. Notably, 814 patients have recovered in the state and 592 were discharged. Jaipur is the worst-hit district with 878 cases and 30 deaths.'"
            ],
            "application/vnd.google.colaboratory.intrinsic+json": {
              "type": "string"
            }
          },
          "metadata": {},
          "execution_count": 7
        }
      ]
    },
    {
      "cell_type": "code",
      "source": [
        "import re"
      ],
      "metadata": {
        "id": "_8H-wJ0IrcR9"
      },
      "execution_count": 8,
      "outputs": []
    },
    {
      "cell_type": "code",
      "source": [
        "data=dataset['Description'][0]\n",
        "re.sub('[^a-zA-Z]',' ',data)"
      ],
      "metadata": {
        "colab": {
          "base_uri": "https://localhost:8080/",
          "height": 70
        },
        "id": "WKQ_3i8Srh04",
        "outputId": "73219753-e4d5-4fe4-b2c9-6da258a972cd"
      },
      "execution_count": 9,
      "outputs": [
        {
          "output_type": "execute_result",
          "data": {
            "text/plain": [
              "'Rajasthan on Wednesday reported    new coronavirus cases  taking the total number of cases in the state to        All three deaths reported in the state today were from Jaipur  taking the death toll to     Notably      patients have recovered in the state and     were discharged  Jaipur is the worst hit district with     cases and    deaths '"
            ],
            "application/vnd.google.colaboratory.intrinsic+json": {
              "type": "string"
            }
          },
          "metadata": {},
          "execution_count": 9
        }
      ]
    },
    {
      "cell_type": "code",
      "source": [
        "data=data.lower()\n",
        "data"
      ],
      "metadata": {
        "colab": {
          "base_uri": "https://localhost:8080/",
          "height": 70
        },
        "id": "SB9hnnesrmS5",
        "outputId": "e4718f60-1673-4d16-81a7-639d6db61016"
      },
      "execution_count": 10,
      "outputs": [
        {
          "output_type": "execute_result",
          "data": {
            "text/plain": [
              "'rajasthan on wednesday reported 74 new coronavirus cases, taking the total number of cases in the state to 2,438. all three deaths reported in the state today were from jaipur, taking the death toll to 55. notably, 814 patients have recovered in the state and 592 were discharged. jaipur is the worst-hit district with 878 cases and 30 deaths.'"
            ],
            "application/vnd.google.colaboratory.intrinsic+json": {
              "type": "string"
            }
          },
          "metadata": {},
          "execution_count": 10
        }
      ]
    },
    {
      "cell_type": "code",
      "source": [
        "list =data.split()\n",
        "list"
      ],
      "metadata": {
        "colab": {
          "base_uri": "https://localhost:8080/"
        },
        "id": "eUTZYtUMrrTy",
        "outputId": "bb7277a1-289c-4bb5-9755-153c2abb8e8a"
      },
      "execution_count": 11,
      "outputs": [
        {
          "output_type": "execute_result",
          "data": {
            "text/plain": [
              "['rajasthan',\n",
              " 'on',\n",
              " 'wednesday',\n",
              " 'reported',\n",
              " '74',\n",
              " 'new',\n",
              " 'coronavirus',\n",
              " 'cases,',\n",
              " 'taking',\n",
              " 'the',\n",
              " 'total',\n",
              " 'number',\n",
              " 'of',\n",
              " 'cases',\n",
              " 'in',\n",
              " 'the',\n",
              " 'state',\n",
              " 'to',\n",
              " '2,438.',\n",
              " 'all',\n",
              " 'three',\n",
              " 'deaths',\n",
              " 'reported',\n",
              " 'in',\n",
              " 'the',\n",
              " 'state',\n",
              " 'today',\n",
              " 'were',\n",
              " 'from',\n",
              " 'jaipur,',\n",
              " 'taking',\n",
              " 'the',\n",
              " 'death',\n",
              " 'toll',\n",
              " 'to',\n",
              " '55.',\n",
              " 'notably,',\n",
              " '814',\n",
              " 'patients',\n",
              " 'have',\n",
              " 'recovered',\n",
              " 'in',\n",
              " 'the',\n",
              " 'state',\n",
              " 'and',\n",
              " '592',\n",
              " 'were',\n",
              " 'discharged.',\n",
              " 'jaipur',\n",
              " 'is',\n",
              " 'the',\n",
              " 'worst-hit',\n",
              " 'district',\n",
              " 'with',\n",
              " '878',\n",
              " 'cases',\n",
              " 'and',\n",
              " '30',\n",
              " 'deaths.']"
            ]
          },
          "metadata": {},
          "execution_count": 11
        }
      ]
    },
    {
      "cell_type": "code",
      "source": [
        "from nltk.stem.snowball import SnowballStemmer\n",
        "sb=SnowballStemmer('english')"
      ],
      "metadata": {
        "id": "0TRtPyMArwzX"
      },
      "execution_count": 12,
      "outputs": []
    },
    {
      "cell_type": "code",
      "source": [
        "def stem_it(Headline):\n",
        "    return [sb.stem(word) for word in Headline]\n",
        "dataset['Headline']=dataset['Headline'].apply(stem_it)\n",
        "dataset"
      ],
      "metadata": {
        "colab": {
          "base_uri": "https://localhost:8080/",
          "height": 971
        },
        "id": "55J8BW9_ryg6",
        "outputId": "7b206ba8-3ff4-4ddd-f454-f25b7f538bd4"
      },
      "execution_count": 13,
      "outputs": [
        {
          "output_type": "execute_result",
          "data": {
            "text/plain": [
              "       Sno        Date                                           Headline  \\\n",
              "0        0  2020-04-29  [coronavirus, case, reach, 2,438, in, rajastha...   \n",
              "1        1  2020-04-29  [coronavirus, case, in, delhi, surg, to, 3,439...   \n",
              "2        2  2020-04-30  [anguish, ,, i, ll, alway, recal, our, interac...   \n",
              "3        3  2020-04-30  [it, 's, a, terribl, week, for, indian, cinema...   \n",
              "4        4  2020-04-30  [delhi, polic, perform, parikrama, ', of, aiim...   \n",
              "...    ...         ...                                                ...   \n",
              "1441  1441  2020-04-09  [news, of, tablighi, jamaat, member, defec, in...   \n",
              "1442  1442  2020-04-09  [karnataka, to, finalis, lockdown, exit, strat...   \n",
              "1443  1443  2020-04-09  [crpf, send, essenti, to, differ, district, of...   \n",
              "1444  1444  2020-04-09  [jharkhand, record, 1st, covid-19, death, as, ...   \n",
              "1445  1445  2020-04-09  [t'gana, issu, guidelin, for, dispos, of, bodi...   \n",
              "\n",
              "      Covid  Sentiment                                        Description  \\\n",
              "0         1          0  Rajasthan on Wednesday reported 74 new coronav...   \n",
              "1         1          0  The total number of coronavirus cases in Delhi...   \n",
              "2         0          1  Condoling the demise of actor Rishi Kapoor, PM...   \n",
              "3         0          0  Congress leader Rahul Gandhi condoled Rishi Ka...   \n",
              "4         1          1  As a sign of respect for healthcare profession...   \n",
              "...     ...        ...                                                ...   \n",
              "1441      1          0  Saharanpur Police has denied news reports that...   \n",
              "1442      1          1  The Karnataka government is engaged in discuss...   \n",
              "1443      1          1  The CRPF on Thursday sent essential commoditie...   \n",
              "1444      1          0  Jharkhand reported its first death due to coro...   \n",
              "1445      1          0  Telangana government has issued guidelines for...   \n",
              "\n",
              "                                                  Image  \\\n",
              "0     https://static.inshorts.com/inshorts/images/v1...   \n",
              "1     https://static.inshorts.com/inshorts/images/v1...   \n",
              "2     https://static.inshorts.com/inshorts/images/v1...   \n",
              "3     https://static.inshorts.com/inshorts/images/v1...   \n",
              "4     https://static.inshorts.com/inshorts/images/v1...   \n",
              "...                                                 ...   \n",
              "1441  https://static.inshorts.com/inshorts/images/v1...   \n",
              "1442  https://static.inshorts.com/inshorts/images/v1...   \n",
              "1443  https://static.inshorts.com/inshorts/images/v1...   \n",
              "1444  https://static.inshorts.com/inshorts/images/v1...   \n",
              "1445  https://static.inshorts.com/inshorts/images/v1...   \n",
              "\n",
              "                                                 Source  \n",
              "0     http://www.rajswasthya.nic.in/?utm_campaign=fu...  \n",
              "1     https://twitter.com/shemin_joy/status/12555489...  \n",
              "2     https://twitter.com/narendramodi/status/125573...  \n",
              "3     https://zeenews.india.com/india/politicians-mo...  \n",
              "4     https://zeenews.india.com/india/delhi-police-p...  \n",
              "...                                                 ...  \n",
              "1441  https://thewire.in/media/media-misreports-tabl...  \n",
              "1442  https://www.financialexpress.com/india-news/ka...  \n",
              "1443  https://twitter.com/ANI/status/124816409174472...  \n",
              "1444  https://zeenews.india.com/jharkhand/jharkhand-...  \n",
              "1445                                           https://  \n",
              "\n",
              "[1446 rows x 8 columns]"
            ],
            "text/html": [
              "\n",
              "  <div id=\"df-badee811-2ea2-47bb-b4d7-f6a37c0875b8\">\n",
              "    <div class=\"colab-df-container\">\n",
              "      <div>\n",
              "<style scoped>\n",
              "    .dataframe tbody tr th:only-of-type {\n",
              "        vertical-align: middle;\n",
              "    }\n",
              "\n",
              "    .dataframe tbody tr th {\n",
              "        vertical-align: top;\n",
              "    }\n",
              "\n",
              "    .dataframe thead th {\n",
              "        text-align: right;\n",
              "    }\n",
              "</style>\n",
              "<table border=\"1\" class=\"dataframe\">\n",
              "  <thead>\n",
              "    <tr style=\"text-align: right;\">\n",
              "      <th></th>\n",
              "      <th>Sno</th>\n",
              "      <th>Date</th>\n",
              "      <th>Headline</th>\n",
              "      <th>Covid</th>\n",
              "      <th>Sentiment</th>\n",
              "      <th>Description</th>\n",
              "      <th>Image</th>\n",
              "      <th>Source</th>\n",
              "    </tr>\n",
              "  </thead>\n",
              "  <tbody>\n",
              "    <tr>\n",
              "      <th>0</th>\n",
              "      <td>0</td>\n",
              "      <td>2020-04-29</td>\n",
              "      <td>[coronavirus, case, reach, 2,438, in, rajastha...</td>\n",
              "      <td>1</td>\n",
              "      <td>0</td>\n",
              "      <td>Rajasthan on Wednesday reported 74 new coronav...</td>\n",
              "      <td>https://static.inshorts.com/inshorts/images/v1...</td>\n",
              "      <td>http://www.rajswasthya.nic.in/?utm_campaign=fu...</td>\n",
              "    </tr>\n",
              "    <tr>\n",
              "      <th>1</th>\n",
              "      <td>1</td>\n",
              "      <td>2020-04-29</td>\n",
              "      <td>[coronavirus, case, in, delhi, surg, to, 3,439...</td>\n",
              "      <td>1</td>\n",
              "      <td>0</td>\n",
              "      <td>The total number of coronavirus cases in Delhi...</td>\n",
              "      <td>https://static.inshorts.com/inshorts/images/v1...</td>\n",
              "      <td>https://twitter.com/shemin_joy/status/12555489...</td>\n",
              "    </tr>\n",
              "    <tr>\n",
              "      <th>2</th>\n",
              "      <td>2</td>\n",
              "      <td>2020-04-30</td>\n",
              "      <td>[anguish, ,, i, ll, alway, recal, our, interac...</td>\n",
              "      <td>0</td>\n",
              "      <td>1</td>\n",
              "      <td>Condoling the demise of actor Rishi Kapoor, PM...</td>\n",
              "      <td>https://static.inshorts.com/inshorts/images/v1...</td>\n",
              "      <td>https://twitter.com/narendramodi/status/125573...</td>\n",
              "    </tr>\n",
              "    <tr>\n",
              "      <th>3</th>\n",
              "      <td>3</td>\n",
              "      <td>2020-04-30</td>\n",
              "      <td>[it, 's, a, terribl, week, for, indian, cinema...</td>\n",
              "      <td>0</td>\n",
              "      <td>0</td>\n",
              "      <td>Congress leader Rahul Gandhi condoled Rishi Ka...</td>\n",
              "      <td>https://static.inshorts.com/inshorts/images/v1...</td>\n",
              "      <td>https://zeenews.india.com/india/politicians-mo...</td>\n",
              "    </tr>\n",
              "    <tr>\n",
              "      <th>4</th>\n",
              "      <td>4</td>\n",
              "      <td>2020-04-30</td>\n",
              "      <td>[delhi, polic, perform, parikrama, ', of, aiim...</td>\n",
              "      <td>1</td>\n",
              "      <td>1</td>\n",
              "      <td>As a sign of respect for healthcare profession...</td>\n",
              "      <td>https://static.inshorts.com/inshorts/images/v1...</td>\n",
              "      <td>https://zeenews.india.com/india/delhi-police-p...</td>\n",
              "    </tr>\n",
              "    <tr>\n",
              "      <th>...</th>\n",
              "      <td>...</td>\n",
              "      <td>...</td>\n",
              "      <td>...</td>\n",
              "      <td>...</td>\n",
              "      <td>...</td>\n",
              "      <td>...</td>\n",
              "      <td>...</td>\n",
              "      <td>...</td>\n",
              "    </tr>\n",
              "    <tr>\n",
              "      <th>1441</th>\n",
              "      <td>1441</td>\n",
              "      <td>2020-04-09</td>\n",
              "      <td>[news, of, tablighi, jamaat, member, defec, in...</td>\n",
              "      <td>1</td>\n",
              "      <td>0</td>\n",
              "      <td>Saharanpur Police has denied news reports that...</td>\n",
              "      <td>https://static.inshorts.com/inshorts/images/v1...</td>\n",
              "      <td>https://thewire.in/media/media-misreports-tabl...</td>\n",
              "    </tr>\n",
              "    <tr>\n",
              "      <th>1442</th>\n",
              "      <td>1442</td>\n",
              "      <td>2020-04-09</td>\n",
              "      <td>[karnataka, to, finalis, lockdown, exit, strat...</td>\n",
              "      <td>1</td>\n",
              "      <td>1</td>\n",
              "      <td>The Karnataka government is engaged in discuss...</td>\n",
              "      <td>https://static.inshorts.com/inshorts/images/v1...</td>\n",
              "      <td>https://www.financialexpress.com/india-news/ka...</td>\n",
              "    </tr>\n",
              "    <tr>\n",
              "      <th>1443</th>\n",
              "      <td>1443</td>\n",
              "      <td>2020-04-09</td>\n",
              "      <td>[crpf, send, essenti, to, differ, district, of...</td>\n",
              "      <td>1</td>\n",
              "      <td>1</td>\n",
              "      <td>The CRPF on Thursday sent essential commoditie...</td>\n",
              "      <td>https://static.inshorts.com/inshorts/images/v1...</td>\n",
              "      <td>https://twitter.com/ANI/status/124816409174472...</td>\n",
              "    </tr>\n",
              "    <tr>\n",
              "      <th>1444</th>\n",
              "      <td>1444</td>\n",
              "      <td>2020-04-09</td>\n",
              "      <td>[jharkhand, record, 1st, covid-19, death, as, ...</td>\n",
              "      <td>1</td>\n",
              "      <td>0</td>\n",
              "      <td>Jharkhand reported its first death due to coro...</td>\n",
              "      <td>https://static.inshorts.com/inshorts/images/v1...</td>\n",
              "      <td>https://zeenews.india.com/jharkhand/jharkhand-...</td>\n",
              "    </tr>\n",
              "    <tr>\n",
              "      <th>1445</th>\n",
              "      <td>1445</td>\n",
              "      <td>2020-04-09</td>\n",
              "      <td>[t'gana, issu, guidelin, for, dispos, of, bodi...</td>\n",
              "      <td>1</td>\n",
              "      <td>0</td>\n",
              "      <td>Telangana government has issued guidelines for...</td>\n",
              "      <td>https://static.inshorts.com/inshorts/images/v1...</td>\n",
              "      <td>https://</td>\n",
              "    </tr>\n",
              "  </tbody>\n",
              "</table>\n",
              "<p>1446 rows × 8 columns</p>\n",
              "</div>\n",
              "      <button class=\"colab-df-convert\" onclick=\"convertToInteractive('df-badee811-2ea2-47bb-b4d7-f6a37c0875b8')\"\n",
              "              title=\"Convert this dataframe to an interactive table.\"\n",
              "              style=\"display:none;\">\n",
              "        \n",
              "  <svg xmlns=\"http://www.w3.org/2000/svg\" height=\"24px\"viewBox=\"0 0 24 24\"\n",
              "       width=\"24px\">\n",
              "    <path d=\"M0 0h24v24H0V0z\" fill=\"none\"/>\n",
              "    <path d=\"M18.56 5.44l.94 2.06.94-2.06 2.06-.94-2.06-.94-.94-2.06-.94 2.06-2.06.94zm-11 1L8.5 8.5l.94-2.06 2.06-.94-2.06-.94L8.5 2.5l-.94 2.06-2.06.94zm10 10l.94 2.06.94-2.06 2.06-.94-2.06-.94-.94-2.06-.94 2.06-2.06.94z\"/><path d=\"M17.41 7.96l-1.37-1.37c-.4-.4-.92-.59-1.43-.59-.52 0-1.04.2-1.43.59L10.3 9.45l-7.72 7.72c-.78.78-.78 2.05 0 2.83L4 21.41c.39.39.9.59 1.41.59.51 0 1.02-.2 1.41-.59l7.78-7.78 2.81-2.81c.8-.78.8-2.07 0-2.86zM5.41 20L4 18.59l7.72-7.72 1.47 1.35L5.41 20z\"/>\n",
              "  </svg>\n",
              "      </button>\n",
              "      \n",
              "  <style>\n",
              "    .colab-df-container {\n",
              "      display:flex;\n",
              "      flex-wrap:wrap;\n",
              "      gap: 12px;\n",
              "    }\n",
              "\n",
              "    .colab-df-convert {\n",
              "      background-color: #E8F0FE;\n",
              "      border: none;\n",
              "      border-radius: 50%;\n",
              "      cursor: pointer;\n",
              "      display: none;\n",
              "      fill: #1967D2;\n",
              "      height: 32px;\n",
              "      padding: 0 0 0 0;\n",
              "      width: 32px;\n",
              "    }\n",
              "\n",
              "    .colab-df-convert:hover {\n",
              "      background-color: #E2EBFA;\n",
              "      box-shadow: 0px 1px 2px rgba(60, 64, 67, 0.3), 0px 1px 3px 1px rgba(60, 64, 67, 0.15);\n",
              "      fill: #174EA6;\n",
              "    }\n",
              "\n",
              "    [theme=dark] .colab-df-convert {\n",
              "      background-color: #3B4455;\n",
              "      fill: #D2E3FC;\n",
              "    }\n",
              "\n",
              "    [theme=dark] .colab-df-convert:hover {\n",
              "      background-color: #434B5C;\n",
              "      box-shadow: 0px 1px 3px 1px rgba(0, 0, 0, 0.15);\n",
              "      filter: drop-shadow(0px 1px 2px rgba(0, 0, 0, 0.3));\n",
              "      fill: #FFFFFF;\n",
              "    }\n",
              "  </style>\n",
              "\n",
              "      <script>\n",
              "        const buttonEl =\n",
              "          document.querySelector('#df-badee811-2ea2-47bb-b4d7-f6a37c0875b8 button.colab-df-convert');\n",
              "        buttonEl.style.display =\n",
              "          google.colab.kernel.accessAllowed ? 'block' : 'none';\n",
              "\n",
              "        async function convertToInteractive(key) {\n",
              "          const element = document.querySelector('#df-badee811-2ea2-47bb-b4d7-f6a37c0875b8');\n",
              "          const dataTable =\n",
              "            await google.colab.kernel.invokeFunction('convertToInteractive',\n",
              "                                                     [key], {});\n",
              "          if (!dataTable) return;\n",
              "\n",
              "          const docLinkHtml = 'Like what you see? Visit the ' +\n",
              "            '<a target=\"_blank\" href=https://colab.research.google.com/notebooks/data_table.ipynb>data table notebook</a>'\n",
              "            + ' to learn more about interactive tables.';\n",
              "          element.innerHTML = '';\n",
              "          dataTable['output_type'] = 'display_data';\n",
              "          await google.colab.output.renderOutput(dataTable, element);\n",
              "          const docLink = document.createElement('div');\n",
              "          docLink.innerHTML = docLinkHtml;\n",
              "          element.appendChild(docLink);\n",
              "        }\n",
              "      </script>\n",
              "    </div>\n",
              "  </div>\n",
              "  "
            ]
          },
          "metadata": {},
          "execution_count": 13
        }
      ]
    },
    {
      "cell_type": "code",
      "source": [
        "def stopword_removal(Headline):\n",
        "    return [word for word in Headline]\n",
        "dataset['Headline']=dataset['Headline'].apply(stopword_removal)\n",
        "dataset['Headline']=dataset['Headline'].apply(' '.join)"
      ],
      "metadata": {
        "id": "FTV_r3YIr8mw"
      },
      "execution_count": 16,
      "outputs": []
    },
    {
      "cell_type": "code",
      "source": [
        "from sklearn.model_selection import train_test_split\n",
        "x_train,x_test,y_train,y_test=train_test_split(dataset['Description'],dataset['Sentiment'],test_size=0.25)\n",
        "x_train"
      ],
      "metadata": {
        "colab": {
          "base_uri": "https://localhost:8080/"
        },
        "id": "9XbNDKfXsAsQ",
        "outputId": "ffc81a7b-98f4-437c-f5d7-4369781d60ef"
      },
      "execution_count": 17,
      "outputs": [
        {
          "output_type": "execute_result",
          "data": {
            "text/plain": [
              "429     Rajasthan Deputy CM Sachin Pilot on Wednesday ...\n",
              "773     France will grant special financial aid to pro...\n",
              "275     Images from the European Space Agency's Copern...\n",
              "1433    As many as 540 new cases of coronavirus and 17...\n",
              "84      The number of coronavirus cases in Karnataka h...\n",
              "                              ...                        \n",
              "793     The government on Saturday revealed that 14.4%...\n",
              "1024    The Ministry of Health and Family Welfare anno...\n",
              "916     Uttarakhand's Chamoli district deployed five m...\n",
              "233     Pune-based Serum Institute of India has said i...\n",
              "103     HRD Minister Ramesh Pokhriyal has urged all th...\n",
              "Name: Description, Length: 1084, dtype: object"
            ]
          },
          "metadata": {},
          "execution_count": 17
        }
      ]
    },
    {
      "cell_type": "code",
      "source": [
        "from sklearn.feature_extraction.text import TfidfVectorizer\n",
        "tfidfv=TfidfVectorizer(max_df=0.5)\n",
        "tfidfv_train=tfidfv.fit_transform(x_train)\n",
        "tfidfv_test=tfidfv.transform(x_test)\n",
        "print(tfidfv_train)"
      ],
      "metadata": {
        "colab": {
          "base_uri": "https://localhost:8080/"
        },
        "id": "TUhG_mDUsXum",
        "outputId": "7d350115-cb30-4e51-fc5f-2e9ba15c4673"
      },
      "execution_count": 18,
      "outputs": [
        {
          "output_type": "stream",
          "name": "stdout",
          "text": [
            "  (0, 2258)\t0.13625022298387074\n",
            "  (0, 5914)\t0.11501969724492435\n",
            "  (0, 2463)\t0.13174930884158262\n",
            "  (0, 1698)\t0.1501855034679841\n",
            "  (0, 6328)\t0.1221562016520147\n",
            "  (0, 5196)\t0.20480836585299836\n",
            "  (0, 6924)\t0.26349861768316524\n",
            "  (0, 3366)\t0.18535130969104383\n",
            "  (0, 4074)\t0.17908753666870939\n",
            "  (0, 5049)\t0.1388038552388152\n",
            "  (0, 2427)\t0.20480836585299836\n",
            "  (0, 4576)\t0.1221562016520147\n",
            "  (0, 649)\t0.06217030443690194\n",
            "  (0, 3100)\t0.06806600417680114\n",
            "  (0, 4448)\t0.1545126052999204\n",
            "  (0, 3901)\t0.06806600417680114\n",
            "  (0, 5298)\t0.1696425596299386\n",
            "  (0, 5236)\t0.17908753666870939\n",
            "  (0, 2341)\t0.09131749726089126\n",
            "  (0, 3492)\t0.12963915532979484\n",
            "  (0, 6184)\t0.19342671762382943\n",
            "  (0, 170)\t0.1388038552388152\n",
            "  (0, 3768)\t0.11177718137644227\n",
            "  (0, 31)\t0.20480836585299836\n",
            "  (0, 107)\t0.12879177611563145\n",
            "  :\t:\n",
            "  (1083, 5161)\t0.1755018521939529\n",
            "  (1083, 3121)\t0.15683451413671057\n",
            "  (1083, 6517)\t0.10202032996960858\n",
            "  (1083, 2386)\t0.1549179602144395\n",
            "  (1083, 2513)\t0.14981464705896735\n",
            "  (1083, 4981)\t0.1794672376687041\n",
            "  (1083, 4164)\t0.16913050649223996\n",
            "  (1083, 6112)\t0.1343340682349261\n",
            "  (1083, 4107)\t0.1416648939537755\n",
            "  (1083, 6031)\t0.1222932633080158\n",
            "  (1083, 755)\t0.09293518366304065\n",
            "  (1083, 2019)\t0.12168094720491514\n",
            "  (1083, 1120)\t0.07189441684310793\n",
            "  (1083, 6907)\t0.07328668488490331\n",
            "  (1083, 6334)\t0.056431553392067756\n",
            "  (1083, 2350)\t0.1090401970473518\n",
            "  (1083, 128)\t0.06661267567910187\n",
            "  (1083, 1911)\t0.06747907914091382\n",
            "  (1083, 797)\t0.0865397511455673\n",
            "  (1083, 6894)\t0.07818284826949214\n",
            "  (1083, 649)\t0.06577083502307686\n",
            "  (1083, 3100)\t0.07200797827741075\n",
            "  (1083, 3901)\t0.07200797827741075\n",
            "  (1083, 3082)\t0.05114099283961394\n",
            "  (1083, 6028)\t0.07166858853898589\n"
          ]
        }
      ]
    },
    {
      "cell_type": "code",
      "source": [
        "from sklearn.linear_model import LogisticRegression\n",
        "lr=LogisticRegression(max_iter=1000)\n",
        "lr.fit(tfidfv_train,y_train)\n",
        "y_pred=lr.predict(tfidfv_test)"
      ],
      "metadata": {
        "id": "v--BwCossfes"
      },
      "execution_count": 19,
      "outputs": []
    },
    {
      "cell_type": "code",
      "source": [
        "from sklearn.metrics import accuracy_score\n",
        "accuracy_score(y_test,y_pred)"
      ],
      "metadata": {
        "colab": {
          "base_uri": "https://localhost:8080/"
        },
        "id": "PeWladeZsnBr",
        "outputId": "3b9b41ae-3efb-4961-fa19-43e183bc89be"
      },
      "execution_count": 20,
      "outputs": [
        {
          "output_type": "execute_result",
          "data": {
            "text/plain": [
              "0.7292817679558011"
            ]
          },
          "metadata": {},
          "execution_count": 20
        }
      ]
    },
    {
      "cell_type": "code",
      "source": [
        "from sklearn.linear_model import PassiveAggressiveClassifier\n",
        "pac=PassiveAggressiveClassifier(max_iter=100)\n",
        "pac.fit(tfidfv_train,y_train)\n",
        "y_pred_pac=pac.predict(tfidfv_test)\n",
        "accuracy_score(y_test,y_pred_pac)"
      ],
      "metadata": {
        "colab": {
          "base_uri": "https://localhost:8080/"
        },
        "id": "Itk6nPvdsrHb",
        "outputId": "3fecff89-708a-47ae-9599-18ac5d9a2d82"
      },
      "execution_count": 21,
      "outputs": [
        {
          "output_type": "execute_result",
          "data": {
            "text/plain": [
              "0.7403314917127072"
            ]
          },
          "metadata": {},
          "execution_count": 21
        }
      ]
    }
  ]
}